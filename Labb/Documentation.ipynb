{
 "cells": [
  {
   "cell_type": "markdown",
   "metadata": {},
   "source": [
    "## Dokumentation över scripten"
   ]
  },
  {
   "cell_type": "markdown",
   "metadata": {},
   "source": []
  },
  {
   "cell_type": "markdown",
   "metadata": {},
   "source": [
    "###### I EDA scrptet så skapar vi två tabeller som grundar sig i datum datan vi har där vi tar ut visningar och visningstid för att sedan joina dem två.\n",
    "###### Sedan så katogireserar vi dem i Enhetstyper.\n"
   ]
  },
  {
   "cell_type": "markdown",
   "metadata": {},
   "source": [
    "###### I marts_content skapar vi en tabell till marts som vi använder titeln, publiceringsdatum, visningar, exponering, premunuranter och klickfrekvens för exponering.\n",
    "######  Allt detta tar vi från innehåll och tabelldata. Sen skapar vi en visningar per dag marts tabell som använder bara vilket datum och antal visnagar för det.\n"
   ]
  },
  {
   "cell_type": "markdown",
   "metadata": {},
   "source": [
    "###### Sen i marts_device så använder vi oss liknande data men lägger till device på den så den får en extra dimension. \n",
    "###### För att slutligen göra en device summary med Enhetstyp, visningar, visningstid och genomsnittlig visningstid."
   ]
  },
  {
   "cell_type": "markdown",
   "metadata": {},
   "source": [
    "###### Jag gjorde först en marts tabell som gav mig visningstid per datum för att kunna använda det senare"
   ]
  },
  {
   "cell_type": "markdown",
   "metadata": {},
   "source": [
    "###### Sedan ville jag jämföra om folk var premunuranter eller inte och kolla utvecklingen på det. Så jag gjorde en tabell för marts där jag använde från premunationstatus\n",
    "###### om folk premunurera eller inte och använde datum så att jag kan se om det ändrats över tid. Jag la sedan till visningstid per datum så man kan utvecklingen av det \n",
    "###### och om det finns någon korrulation med Premunuranterna."
   ]
  },
  {
   "cell_type": "markdown",
   "metadata": {},
   "source": []
  }
 ],
 "metadata": {
  "language_info": {
   "name": "python"
  }
 },
 "nbformat": 4,
 "nbformat_minor": 2
}
