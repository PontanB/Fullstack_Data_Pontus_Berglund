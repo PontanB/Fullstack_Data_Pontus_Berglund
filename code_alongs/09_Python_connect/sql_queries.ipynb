{
 "cells": [
  {
   "cell_type": "code",
   "execution_count": 15,
   "metadata": {},
   "outputs": [
    {
     "ename": "ImportError",
     "evalue": "cannot import name 'QueryDatabase' from 'query_database' (c:\\Users\\pontu\\Codes\\Github\\Fullstack_Data_Pontus_berglund\\code_alongs\\09_Python_connect\\query_database.py)",
     "output_type": "error",
     "traceback": [
      "\u001b[1;31m---------------------------------------------------------------------------\u001b[0m",
      "\u001b[1;31mImportError\u001b[0m                               Traceback (most recent call last)",
      "Cell \u001b[1;32mIn[15], line 1\u001b[0m\n\u001b[1;32m----> 1\u001b[0m \u001b[38;5;28;01mfrom\u001b[39;00m \u001b[38;5;21;01mquery_database\u001b[39;00m \u001b[38;5;28;01mimport\u001b[39;00m QueryDatabase\n\u001b[0;32m      3\u001b[0m df \u001b[38;5;241m=\u001b[39m QueryDatabase(\u001b[38;5;124m\"\u001b[39m\u001b[38;5;124mSELECT * FROM supplier_invoice.invoice_202408\u001b[39m\u001b[38;5;124m\"\u001b[39m)\u001b[38;5;241m.\u001b[39mdf\n\u001b[0;32m      5\u001b[0m df\u001b[38;5;241m.\u001b[39mhead()\n",
      "\u001b[1;31mImportError\u001b[0m: cannot import name 'QueryDatabase' from 'query_database' (c:\\Users\\pontu\\Codes\\Github\\Fullstack_Data_Pontus_berglund\\code_alongs\\09_Python_connect\\query_database.py)"
     ]
    }
   ],
   "source": [
    "from query_database import QueryDatabase\n",
    "\n",
    "df = QueryDatabase(\"SELECT * FROM supplier_invoice.invoice_202408\").df\n",
    "\n",
    "df.head()"
   ]
  }
 ],
 "metadata": {
  "kernelspec": {
   "display_name": ".venv",
   "language": "python",
   "name": "python3"
  },
  "language_info": {
   "codemirror_mode": {
    "name": "ipython",
    "version": 3
   },
   "file_extension": ".py",
   "mimetype": "text/x-python",
   "name": "python",
   "nbconvert_exporter": "python",
   "pygments_lexer": "ipython3",
   "version": "3.11.7"
  }
 },
 "nbformat": 4,
 "nbformat_minor": 2
}
