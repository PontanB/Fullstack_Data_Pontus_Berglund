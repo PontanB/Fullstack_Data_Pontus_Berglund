{
 "cells": [
  {
   "cell_type": "code",
   "execution_count": 2,
   "metadata": {},
   "outputs": [
    {
     "ename": "KeyError",
     "evalue": "'openai/gpt-4o'",
     "output_type": "error",
     "traceback": [
      "\u001b[1;31m---------------------------------------------------------------------------\u001b[0m",
      "\u001b[1;31mKeyError\u001b[0m                                  Traceback (most recent call last)",
      "Cell \u001b[1;32mIn[2], line 25\u001b[0m\n\u001b[0;32m     22\u001b[0m response \u001b[38;5;241m=\u001b[39m requests\u001b[38;5;241m.\u001b[39mpost(url, json\u001b[38;5;241m=\u001b[39mpayload, headers\u001b[38;5;241m=\u001b[39mheaders)\n\u001b[0;32m     24\u001b[0m result \u001b[38;5;241m=\u001b[39m json\u001b[38;5;241m.\u001b[39mloads(response\u001b[38;5;241m.\u001b[39mtext)\n\u001b[1;32m---> 25\u001b[0m \u001b[38;5;28mprint\u001b[39m(\u001b[43mresult\u001b[49m\u001b[43m[\u001b[49m\u001b[38;5;124;43m'\u001b[39;49m\u001b[38;5;124;43mopenai/gpt-4o\u001b[39;49m\u001b[38;5;124;43m'\u001b[39;49m\u001b[43m]\u001b[49m[\u001b[38;5;124m'\u001b[39m\u001b[38;5;124mgenerated_text\u001b[39m\u001b[38;5;124m'\u001b[39m])\n\u001b[0;32m     27\u001b[0m \u001b[38;5;28mprint\u001b[39m(EDEN_API_KEY)\n",
      "\u001b[1;31mKeyError\u001b[0m: 'openai/gpt-4o'"
     ]
    }
   ],
   "source": [
    "import json\n",
    "import requests\n",
    "from dotenv import load_dotenv\n",
    "import os \n",
    "\n",
    "load_dotenv()\n",
    "\n",
    "EDEN_API_KEY = os.getenv(\"EDEN_API_KEY\")\n",
    "\n",
    "headers = {\"Authorization\": f\"Bearer {EDEN_API_KEY}\"}\n",
    "\n",
    "url = \"https://api.edenai.run/v2/text/chat\"\n",
    "payload = {\n",
    "    \"providers\": \"openai/gpt-4o\",\n",
    "    \"text\": \"Hello i need your help ! \",\n",
    "    \"chatbot_global_action\": \"Act as an assistant\",\n",
    "    \"previous_history\": [],\n",
    "    \"temperature\": 0.0,\n",
    "    \"max_tokens\": 150,\n",
    "}\n",
    "\n",
    "response = requests.post(url, json=payload, headers=headers)\n",
    "\n",
    "result = json.loads(response.text)\n",
    "print(result['openai/gpt-4o']['generated_text'])\n",
    "\n",
    "print(EDEN_API_KEY)"
   ]
  }
 ],
 "metadata": {
  "kernelspec": {
   "display_name": "Python 3",
   "language": "python",
   "name": "python3"
  },
  "language_info": {
   "codemirror_mode": {
    "name": "ipython",
    "version": 3
   },
   "file_extension": ".py",
   "mimetype": "text/x-python",
   "name": "python",
   "nbconvert_exporter": "python",
   "pygments_lexer": "ipython3",
   "version": "3.11.7"
  }
 },
 "nbformat": 4,
 "nbformat_minor": 2
}
